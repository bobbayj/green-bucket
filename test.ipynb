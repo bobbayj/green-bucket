{
 "nbformat": 4,
 "nbformat_minor": 2,
 "metadata": {
  "language_info": {
   "name": "python",
   "codemirror_mode": {
    "name": "ipython",
    "version": 3
   },
   "version": "3.7.6-final"
  },
  "orig_nbformat": 2,
  "file_extension": ".py",
  "mimetype": "text/x-python",
  "name": "python",
  "npconvert_exporter": "python",
  "pygments_lexer": "ipython3",
  "version": 3,
  "kernelspec": {
   "name": "python37664bitbaseconda7b9b13912e2340a5850e4c26b715291e",
   "display_name": "Python 3.7.6 64-bit ('base': conda)"
  }
 },
 "cells": [
  {
   "cell_type": "code",
   "execution_count": 1,
   "metadata": {},
   "outputs": [
    {
     "name": "stdout",
     "output_type": "stream",
     "text": "IBXO | Progress: 10/35- IBXO.AX: 1d data not available for startTime=-2208988800 and endTime=1582116732. Only 100 years worth of day granularity data are allowed to be fetched per request.\nSRS | Progress: 30/35- SRS.AX: No data found, symbol may be delisted\nZNO | Progress: 35/35"
    }
   ],
   "source": [
    "from transactions import holdings\n",
    "\n",
    "holdings = holdings.Holdings()"
   ]
  },
  {
   "cell_type": "code",
   "execution_count": 3,
   "metadata": {},
   "outputs": [
    {
     "data": {
      "text/html": "<div>\n<style scoped>\n    .dataframe tbody tr th:only-of-type {\n        vertical-align: middle;\n    }\n\n    .dataframe tbody tr th {\n        vertical-align: top;\n    }\n\n    .dataframe thead th {\n        text-align: right;\n    }\n</style>\n<table border=\"1\" class=\"dataframe\">\n  <thead>\n    <tr style=\"text-align: right;\">\n      <th></th>\n      <th></th>\n      <th>Market</th>\n      <th>TradeType</th>\n      <th>Volume</th>\n      <th>TradePrice</th>\n      <th>EffectivePrice</th>\n      <th>Brokerage</th>\n    </tr>\n    <tr>\n      <th>Date</th>\n      <th>Ticker</th>\n      <th></th>\n      <th></th>\n      <th></th>\n      <th></th>\n      <th></th>\n      <th></th>\n    </tr>\n  </thead>\n  <tbody>\n    <tr>\n      <th>2020-01-30</th>\n      <th>NEA</th>\n      <td>ASX</td>\n      <td>B</td>\n      <td>606.0</td>\n      <td>1.650000</td>\n      <td>1.666502</td>\n      <td>10.0</td>\n    </tr>\n    <tr>\n      <th>2020-01-16</th>\n      <th>IBXO</th>\n      <td>ASX</td>\n      <td>B</td>\n      <td>100099.0</td>\n      <td>0.010000</td>\n      <td>0.010100</td>\n      <td>10.0</td>\n    </tr>\n    <tr>\n      <th rowspan=\"2\" valign=\"top\">2020-01-14</th>\n      <th>IFN</th>\n      <td>ASX</td>\n      <td>S</td>\n      <td>1767.0</td>\n      <td>0.680000</td>\n      <td>0.668710</td>\n      <td>20.0</td>\n    </tr>\n    <tr>\n      <th>DEM</th>\n      <td>ASX</td>\n      <td>B</td>\n      <td>4170.0</td>\n      <td>0.240000</td>\n      <td>0.242398</td>\n      <td>10.0</td>\n    </tr>\n    <tr>\n      <th>2020-01-10</th>\n      <th>WZR</th>\n      <td>ASX</td>\n      <td>B</td>\n      <td>4448.0</td>\n      <td>0.225000</td>\n      <td>0.227248</td>\n      <td>10.0</td>\n    </tr>\n    <tr>\n      <th>...</th>\n      <th>...</th>\n      <td>...</td>\n      <td>...</td>\n      <td>...</td>\n      <td>...</td>\n      <td>...</td>\n      <td>...</td>\n    </tr>\n    <tr>\n      <th>2016-09-28</th>\n      <th>QBE</th>\n      <td>ASX</td>\n      <td>B</td>\n      <td>11.0</td>\n      <td>9.540000</td>\n      <td>9.540000</td>\n      <td>0.0</td>\n    </tr>\n    <tr>\n      <th>2016-07-06</th>\n      <th>QBE</th>\n      <td>ASX</td>\n      <td>B</td>\n      <td>500.0</td>\n      <td>10.280000</td>\n      <td>10.319900</td>\n      <td>20.0</td>\n    </tr>\n    <tr>\n      <th>2016-04-28</th>\n      <th>RMD</th>\n      <td>ASX</td>\n      <td>B</td>\n      <td>300.0</td>\n      <td>7.500000</td>\n      <td>7.566500</td>\n      <td>20.0</td>\n    </tr>\n    <tr>\n      <th>2015-03-26</th>\n      <th>WOW</th>\n      <td>ASX</td>\n      <td>B</td>\n      <td>100.0</td>\n      <td>28.799999</td>\n      <td>28.999500</td>\n      <td>20.0</td>\n    </tr>\n    <tr>\n      <th>2015-01-07</th>\n      <th>NAN</th>\n      <td>ASX</td>\n      <td>B</td>\n      <td>1000.0</td>\n      <td>1.350000</td>\n      <td>1.369950</td>\n      <td>20.0</td>\n    </tr>\n  </tbody>\n</table>\n<p>77 rows × 6 columns</p>\n</div>",
      "text/plain": "                  Market TradeType    Volume  TradePrice  EffectivePrice  \\\nDate       Ticker                                                          \n2020-01-30 NEA       ASX         B     606.0    1.650000        1.666502   \n2020-01-16 IBXO      ASX         B  100099.0    0.010000        0.010100   \n2020-01-14 IFN       ASX         S    1767.0    0.680000        0.668710   \n           DEM       ASX         B    4170.0    0.240000        0.242398   \n2020-01-10 WZR       ASX         B    4448.0    0.225000        0.227248   \n...                  ...       ...       ...         ...             ...   \n2016-09-28 QBE       ASX         B      11.0    9.540000        9.540000   \n2016-07-06 QBE       ASX         B     500.0   10.280000       10.319900   \n2016-04-28 RMD       ASX         B     300.0    7.500000        7.566500   \n2015-03-26 WOW       ASX         B     100.0   28.799999       28.999500   \n2015-01-07 NAN       ASX         B    1000.0    1.350000        1.369950   \n\n                   Brokerage  \nDate       Ticker             \n2020-01-30 NEA          10.0  \n2020-01-16 IBXO         10.0  \n2020-01-14 IFN          20.0  \n           DEM          10.0  \n2020-01-10 WZR          10.0  \n...                      ...  \n2016-09-28 QBE           0.0  \n2016-07-06 QBE          20.0  \n2016-04-28 RMD          20.0  \n2015-03-26 WOW          20.0  \n2015-01-07 NAN          20.0  \n\n[77 rows x 6 columns]"
     },
     "execution_count": 3,
     "metadata": {},
     "output_type": "execute_result"
    }
   ],
   "source": [
    "holdings.history"
   ]
  },
  {
   "cell_type": "code",
   "execution_count": null,
   "metadata": {},
   "outputs": [],
   "source": []
  }
 ]
}