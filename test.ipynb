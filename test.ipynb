{
 "nbformat": 4,
 "nbformat_minor": 2,
 "metadata": {
  "language_info": {
   "name": "python",
   "codemirror_mode": {
    "name": "ipython",
    "version": 3
   },
   "version": "3.7.6-final"
  },
  "orig_nbformat": 2,
  "file_extension": ".py",
  "mimetype": "text/x-python",
  "name": "python",
  "npconvert_exporter": "python",
  "pygments_lexer": "ipython3",
  "version": 3,
  "kernelspec": {
   "name": "python37664bitbaseconda7b9b13912e2340a5850e4c26b715291e",
   "display_name": "Python 3.7.6 64-bit ('base': conda)"
  }
 },
 "cells": [
  {
   "cell_type": "code",
   "execution_count": 1,
   "metadata": {},
   "outputs": [],
   "source": [
    "import pandas as pd\n",
    "import numpy as np\n",
    "\n",
    "from transactions import etl\n",
    "\n",
    "trades = etl.Commsec().df\n",
    "div_scrip = etl.DivScrip().df"
   ]
  },
  {
   "cell_type": "code",
   "execution_count": 2,
   "metadata": {},
   "outputs": [
    {
     "data": {
      "text/html": "<div>\n<style scoped>\n    .dataframe tbody tr th:only-of-type {\n        vertical-align: middle;\n    }\n\n    .dataframe tbody tr th {\n        vertical-align: top;\n    }\n\n    .dataframe thead th {\n        text-align: right;\n    }\n</style>\n<table border=\"1\" class=\"dataframe\">\n  <thead>\n    <tr style=\"text-align: right;\">\n      <th></th>\n      <th></th>\n      <th>Cash_unfranked</th>\n      <th>Cash_franked</th>\n      <th>Scrip</th>\n      <th>Scrip_price</th>\n    </tr>\n    <tr>\n      <th>Date</th>\n      <th>Ticker</th>\n      <th></th>\n      <th></th>\n      <th></th>\n      <th></th>\n    </tr>\n  </thead>\n  <tbody>\n    <tr>\n      <th>2016-09-28</th>\n      <th>QBE</th>\n      <td>NaN</td>\n      <td>NaN</td>\n      <td>11.0</td>\n      <td>9.54</td>\n    </tr>\n    <tr>\n      <th>2016-10-07</th>\n      <th>WOW</th>\n      <td>NaN</td>\n      <td>NaN</td>\n      <td>1.0</td>\n      <td>33.00</td>\n    </tr>\n    <tr>\n      <th>2017-04-07</th>\n      <th>WOW</th>\n      <td>NaN</td>\n      <td>NaN</td>\n      <td>1.0</td>\n      <td>34.34</td>\n    </tr>\n    <tr>\n      <th>2017-04-13</th>\n      <th>QBE</th>\n      <td>NaN</td>\n      <td>NaN</td>\n      <td>13.0</td>\n      <td>12.97</td>\n    </tr>\n    <tr>\n      <th>2017-09-29</th>\n      <th>QBE</th>\n      <td>NaN</td>\n      <td>NaN</td>\n      <td>11.0</td>\n      <td>10.01</td>\n    </tr>\n    <tr>\n      <th>2017-10-06</th>\n      <th>WOW</th>\n      <td>NaN</td>\n      <td>NaN</td>\n      <td>2.0</td>\n      <td>24.86</td>\n    </tr>\n    <tr>\n      <th>2018-04-06</th>\n      <th>WOW</th>\n      <td>NaN</td>\n      <td>NaN</td>\n      <td>2.0</td>\n      <td>26.63</td>\n    </tr>\n    <tr>\n      <th>2018-04-20</th>\n      <th>QBE</th>\n      <td>NaN</td>\n      <td>NaN</td>\n      <td>2.0</td>\n      <td>9.89</td>\n    </tr>\n    <tr>\n      <th>2018-10-05</th>\n      <th>QBE</th>\n      <td>NaN</td>\n      <td>NaN</td>\n      <td>11.0</td>\n      <td>10.74</td>\n    </tr>\n    <tr>\n      <th>2018-10-12</th>\n      <th>WOW</th>\n      <td>NaN</td>\n      <td>NaN</td>\n      <td>2.0</td>\n      <td>31.80</td>\n    </tr>\n  </tbody>\n</table>\n</div>",
      "text/plain": "                   Cash_unfranked  Cash_franked  Scrip  Scrip_price\nDate       Ticker                                                  \n2016-09-28 QBE                NaN           NaN   11.0         9.54\n2016-10-07 WOW                NaN           NaN    1.0        33.00\n2017-04-07 WOW                NaN           NaN    1.0        34.34\n2017-04-13 QBE                NaN           NaN   13.0        12.97\n2017-09-29 QBE                NaN           NaN   11.0        10.01\n2017-10-06 WOW                NaN           NaN    2.0        24.86\n2018-04-06 WOW                NaN           NaN    2.0        26.63\n2018-04-20 QBE                NaN           NaN    2.0         9.89\n2018-10-05 QBE                NaN           NaN   11.0        10.74\n2018-10-12 WOW                NaN           NaN    2.0        31.80"
     },
     "execution_count": 2,
     "metadata": {},
     "output_type": "execute_result"
    }
   ],
   "source": [
    "# Get scrip\n",
    "# Convert string dates to datetime.date\n",
    "# div_scrip.date = pd.to_datetime(div_scrip.index, dayfirst=True).dt.date\n",
    "div_scrip[div_scrip.Scrip.isna() == False]"
   ]
  },
  {
   "cell_type": "code",
   "execution_count": 3,
   "metadata": {},
   "outputs": [
    {
     "data": {
      "text/html": "<div>\n<style scoped>\n    .dataframe tbody tr th:only-of-type {\n        vertical-align: middle;\n    }\n\n    .dataframe tbody tr th {\n        vertical-align: top;\n    }\n\n    .dataframe thead th {\n        text-align: right;\n    }\n</style>\n<table border=\"1\" class=\"dataframe\">\n  <thead>\n    <tr style=\"text-align: right;\">\n      <th></th>\n      <th></th>\n      <th>Market</th>\n      <th>TradeType</th>\n      <th>Volume</th>\n      <th>TradePrice</th>\n      <th>EffectivePrice</th>\n      <th>Brokerage</th>\n      <th>Scrip</th>\n      <th>Scrip_price</th>\n    </tr>\n    <tr>\n      <th>Date</th>\n      <th>Ticker</th>\n      <th></th>\n      <th></th>\n      <th></th>\n      <th></th>\n      <th></th>\n      <th></th>\n      <th></th>\n      <th></th>\n    </tr>\n  </thead>\n  <tbody>\n    <tr>\n      <th>2020-01-30</th>\n      <th>NEA</th>\n      <td>ASX</td>\n      <td>B</td>\n      <td>606.0</td>\n      <td>1.650</td>\n      <td>1.666502</td>\n      <td>10.0</td>\n      <td>NaN</td>\n      <td>NaN</td>\n    </tr>\n    <tr>\n      <th>2020-01-16</th>\n      <th>IBXO</th>\n      <td>ASX</td>\n      <td>B</td>\n      <td>100099.0</td>\n      <td>0.010</td>\n      <td>0.010100</td>\n      <td>10.0</td>\n      <td>NaN</td>\n      <td>NaN</td>\n    </tr>\n    <tr>\n      <th rowspan=\"2\" valign=\"top\">2020-01-14</th>\n      <th>DEM</th>\n      <td>ASX</td>\n      <td>B</td>\n      <td>4170.0</td>\n      <td>0.240</td>\n      <td>0.242398</td>\n      <td>10.0</td>\n      <td>NaN</td>\n      <td>NaN</td>\n    </tr>\n    <tr>\n      <th>IFN</th>\n      <td>ASX</td>\n      <td>S</td>\n      <td>1767.0</td>\n      <td>0.680</td>\n      <td>0.668710</td>\n      <td>20.0</td>\n      <td>NaN</td>\n      <td>NaN</td>\n    </tr>\n    <tr>\n      <th>2020-01-10</th>\n      <th>AVH</th>\n      <td>ASX</td>\n      <td>S</td>\n      <td>1551.0</td>\n      <td>0.645</td>\n      <td>0.638556</td>\n      <td>10.0</td>\n      <td>NaN</td>\n      <td>NaN</td>\n    </tr>\n    <tr>\n      <th>...</th>\n      <th>...</th>\n      <td>...</td>\n      <td>...</td>\n      <td>...</td>\n      <td>...</td>\n      <td>...</td>\n      <td>...</td>\n      <td>...</td>\n      <td>...</td>\n    </tr>\n    <tr>\n      <th>2017-10-06</th>\n      <th>WOW</th>\n      <td>NaN</td>\n      <td>NaN</td>\n      <td>NaN</td>\n      <td>NaN</td>\n      <td>NaN</td>\n      <td>NaN</td>\n      <td>2.0</td>\n      <td>24.86</td>\n    </tr>\n    <tr>\n      <th>2018-04-06</th>\n      <th>WOW</th>\n      <td>NaN</td>\n      <td>NaN</td>\n      <td>NaN</td>\n      <td>NaN</td>\n      <td>NaN</td>\n      <td>NaN</td>\n      <td>2.0</td>\n      <td>26.63</td>\n    </tr>\n    <tr>\n      <th>2018-04-20</th>\n      <th>QBE</th>\n      <td>NaN</td>\n      <td>NaN</td>\n      <td>NaN</td>\n      <td>NaN</td>\n      <td>NaN</td>\n      <td>NaN</td>\n      <td>2.0</td>\n      <td>9.89</td>\n    </tr>\n    <tr>\n      <th>2018-10-05</th>\n      <th>QBE</th>\n      <td>NaN</td>\n      <td>NaN</td>\n      <td>NaN</td>\n      <td>NaN</td>\n      <td>NaN</td>\n      <td>NaN</td>\n      <td>11.0</td>\n      <td>10.74</td>\n    </tr>\n    <tr>\n      <th>2018-10-12</th>\n      <th>WOW</th>\n      <td>NaN</td>\n      <td>NaN</td>\n      <td>NaN</td>\n      <td>NaN</td>\n      <td>NaN</td>\n      <td>NaN</td>\n      <td>2.0</td>\n      <td>31.80</td>\n    </tr>\n  </tbody>\n</table>\n<p>77 rows × 8 columns</p>\n</div>",
      "text/plain": "                  Market TradeType    Volume  TradePrice  EffectivePrice  \\\nDate       Ticker                                                          \n2020-01-30 NEA       ASX         B     606.0       1.650        1.666502   \n2020-01-16 IBXO      ASX         B  100099.0       0.010        0.010100   \n2020-01-14 DEM       ASX         B    4170.0       0.240        0.242398   \n           IFN       ASX         S    1767.0       0.680        0.668710   \n2020-01-10 AVH       ASX         S    1551.0       0.645        0.638556   \n...                  ...       ...       ...         ...             ...   \n2017-10-06 WOW       NaN       NaN       NaN         NaN             NaN   \n2018-04-06 WOW       NaN       NaN       NaN         NaN             NaN   \n2018-04-20 QBE       NaN       NaN       NaN         NaN             NaN   \n2018-10-05 QBE       NaN       NaN       NaN         NaN             NaN   \n2018-10-12 WOW       NaN       NaN       NaN         NaN             NaN   \n\n                   Brokerage  Scrip  Scrip_price  \nDate       Ticker                                 \n2020-01-30 NEA          10.0    NaN          NaN  \n2020-01-16 IBXO         10.0    NaN          NaN  \n2020-01-14 DEM          10.0    NaN          NaN  \n           IFN          20.0    NaN          NaN  \n2020-01-10 AVH          10.0    NaN          NaN  \n...                      ...    ...          ...  \n2017-10-06 WOW           NaN    2.0        24.86  \n2018-04-06 WOW           NaN    2.0        26.63  \n2018-04-20 QBE           NaN    2.0         9.89  \n2018-10-05 QBE           NaN   11.0        10.74  \n2018-10-12 WOW           NaN    2.0        31.80  \n\n[77 rows x 8 columns]"
     },
     "execution_count": 3,
     "metadata": {},
     "output_type": "execute_result"
    }
   ],
   "source": [
    "# Add scrip as vol and scrip_price as tradeprice, effectiveprice\n",
    "xscrip_df = div_scrip[div_scrip.Scrip.isna() == False].drop(columns=['Cash_unfranked', 'Cash_franked'])\n",
    "\n",
    "trades = pd.concat([trades, xscrip_df], sort=False)\n",
    "\n",
    "trades"
   ]
  },
  {
   "cell_type": "code",
   "execution_count": 4,
   "metadata": {},
   "outputs": [
    {
     "name": "stdout",
     "output_type": "stream",
     "text": "IBXO | Progress: 10/35- IBXO.AX: 1d data not available for startTime=-2208988800 and endTime=1581774421. Only 100 years worth of day granularity data are allowed to be fetched per request.\nSRS | Progress: 30/35- SRS.AX: No data found, symbol may be delisted\nZNO | Progress: 35/35"
    }
   ],
   "source": [
    "import yfinance as yf\n",
    "import datetime\n",
    "\n",
    "tickers = sorted(set(trades.index._levels[1].to_list()))\n",
    "for i, ticker in enumerate(tickers):\n",
    "    # if ticker != 'IMM':\n",
    "    #     continue\n",
    "    \n",
    "    # Refresh lookup masks\n",
    "    mask_ticker = (trades.index.get_level_values(1)==ticker)\n",
    "    mask_scrip = (trades['Brokerage'].isna()==True)\n",
    "\n",
    "    # Store first date of holdings\n",
    "    holding_start = trades.loc[mask_ticker,'Market'].first_valid_index()[0]\n",
    "    \n",
    "    print(f'\\r{ticker} | Progress: {i+1}/{len(tickers)}', end='', flush=True)\n",
    "    if len(trades.loc[trades['Brokerage'].isna()==True]) > 0:\n",
    "        # Fill df with scrip data\n",
    "        trades.loc[mask_scrip,'TradeType'] = 'B'\n",
    "        trades.loc[mask_scrip,'Market'] = 'ASX'\n",
    "        trades.loc[mask_scrip,'Volume'] = trades.loc[mask_scrip].pop('Scrip')\n",
    "        trades.loc[mask_scrip,'TradePrice'] = trades.loc[mask_scrip].pop('Scrip_price')\n",
    "        trades.loc[mask_scrip,'EffectivePrice'] = trades.loc[mask_scrip].pop('Scrip_price')\n",
    "        trades.loc[mask_scrip,'Brokerage'] = 0\n",
    "\n",
    "        trades = trades.drop(columns=['Scrip','Scrip_price'])\n",
    "\n",
    "    # Update with stocksplit data\n",
    "    try:\n",
    "        splits = yf.Ticker(f'{ticker}.AX').splits\n",
    "    except:\n",
    "        continue\n",
    "    else:\n",
    "        if len(splits) == 0:\n",
    "            continue\n",
    "        \n",
    "        if len(splits.loc[holding_start:]) > 0:\n",
    "            split_multiple = splits.loc[holding_start:].cumprod().values[-1]\n",
    "            trades.loc[mask_ticker,'Volume'] = trades.loc[mask_ticker].pop('Volume') * split_multiple\n",
    "            trades.loc[mask_ticker,'TradePrice'] = trades.loc[mask_ticker].pop('TradePrice') / split_multiple\n",
    "            trades.loc[mask_ticker,'EffectivePrice'] = trades.loc[mask_ticker].pop('EffectivePrice') / split_multiple\n",
    "\n",
    "trades = trades.sort_index()\n",
    "\n",
    "# Save as csv\n",
    "today = datetime.datetime.today().date()\n",
    "\n",
    "trades.to_csv(f'data/{today}_transactions.csv')"
   ]
  },
  {
   "cell_type": "code",
   "execution_count": null,
   "metadata": {},
   "outputs": [],
   "source": []
  }
 ]
}